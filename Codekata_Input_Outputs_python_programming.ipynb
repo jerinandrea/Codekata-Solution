{
  "nbformat": 4,
  "nbformat_minor": 0,
  "metadata": {
    "colab": {
      "name": "Codekata Input/Outputs- python programming.ipynb",
      "provenance": []
    },
    "kernelspec": {
      "name": "python3",
      "display_name": "Python 3"
    },
    "language_info": {
      "name": "python"
    }
  },
  "cells": [
    {
      "cell_type": "markdown",
      "source": [
        "**Print the characters in a string separated by comma.**"
      ],
      "metadata": {
        "id": "Dec03ws_k3px"
      }
    },
    {
      "cell_type": "code",
      "execution_count": 1,
      "metadata": {
        "colab": {
          "base_uri": "https://localhost:8080/"
        },
        "id": "nMfxyUqfksk4",
        "outputId": "abd1ff53-3301-42ad-ccb4-940884a26754"
      },
      "outputs": [
        {
          "output_type": "stream",
          "name": "stdout",
          "text": [
            "guvi\n",
            "g,u,v,i\n"
          ]
        }
      ],
      "source": [
        "a=input()\n",
        "print(','.join(map(str,a)))"
      ]
    },
    {
      "cell_type": "markdown",
      "source": [
        "**Print the integer value**"
      ],
      "metadata": {
        "id": "0H1TqAGHlGFC"
      }
    },
    {
      "cell_type": "code",
      "source": [
        "a = input()\n",
        "print(a)"
      ],
      "metadata": {
        "colab": {
          "base_uri": "https://localhost:8080/"
        },
        "id": "yjLhrXuGlLYB",
        "outputId": "01c254fa-b238-4984-de82-559ab91c21f6"
      },
      "execution_count": 2,
      "outputs": [
        {
          "output_type": "stream",
          "name": "stdout",
          "text": [
            "2\n",
            "2\n"
          ]
        }
      ]
    },
    {
      "cell_type": "markdown",
      "source": [
        "**Print the integer list of integers separated by space**"
      ],
      "metadata": {
        "id": "MQClHSPOlS-V"
      }
    },
    {
      "cell_type": "code",
      "source": [
        "l=input()\n",
        "print(''.join(map(str,l)))"
      ],
      "metadata": {
        "colab": {
          "base_uri": "https://localhost:8080/"
        },
        "id": "mAeVyORllYcN",
        "outputId": "68f5ee29-71a3-456b-9f15-ecf2a6f63975"
      },
      "execution_count": 3,
      "outputs": [
        {
          "output_type": "stream",
          "name": "stdout",
          "text": [
            "2 3 4 5 6 7 8\n",
            "2 3 4 5 6 7 8\n"
          ]
        }
      ]
    },
    {
      "cell_type": "markdown",
      "source": [
        "**Print the taken input in the same format.**"
      ],
      "metadata": {
        "id": "-1k4ONUXlfNu"
      }
    },
    {
      "cell_type": "code",
      "source": [
        "a=input()\n",
        "print(''.join(map(str,a)))\n",
        "b=input()\n",
        "print(''.join(map(str,b)))"
      ],
      "metadata": {
        "colab": {
          "base_uri": "https://localhost:8080/"
        },
        "id": "WI2AEpZTllJ_",
        "outputId": "e8b9496f-8d85-4566-cfcb-2edfa713cbc8"
      },
      "execution_count": 4,
      "outputs": [
        {
          "output_type": "stream",
          "name": "stdout",
          "text": [
            "5 3 1 2 3 4 5\n",
            "5 3 1 2 3 4 5\n",
            "12345\n",
            "12345\n"
          ]
        }
      ]
    },
    {
      "cell_type": "markdown",
      "source": [
        "**Print the integers in a single line separate by space**"
      ],
      "metadata": {
        "id": "pJ5f412Wlte1"
      }
    },
    {
      "cell_type": "code",
      "source": [
        "x = input()\n",
        "y = input()\n",
        "z = input()\n",
        "print((''.join(map(str,x))),(''.join(map(str,y))),(''.join(map(str,z))))\n"
      ],
      "metadata": {
        "colab": {
          "base_uri": "https://localhost:8080/"
        },
        "id": "jq-kxI_5l1VW",
        "outputId": "b2395efb-e0bf-45de-bf38-dd99c01d6f11"
      },
      "execution_count": 5,
      "outputs": [
        {
          "output_type": "stream",
          "name": "stdout",
          "text": [
            "2\n",
            "3\n",
            "5\n",
            "2 3 5\n"
          ]
        }
      ]
    },
    {
      "cell_type": "markdown",
      "source": [
        "**Print the characters in a string separated by space.**"
      ],
      "metadata": {
        "id": "ik8cyJzVl8j8"
      }
    },
    {
      "cell_type": "code",
      "source": [
        "a=input()\n",
        "print(' '.join(map(str,a)))"
      ],
      "metadata": {
        "colab": {
          "base_uri": "https://localhost:8080/"
        },
        "id": "rDLrlQSimDCo",
        "outputId": "305408cc-7ddb-45d7-9f5f-062c9dcc86ee"
      },
      "execution_count": 6,
      "outputs": [
        {
          "output_type": "stream",
          "name": "stdout",
          "text": [
            "guvi\n",
            "g u v i\n"
          ]
        }
      ]
    },
    {
      "cell_type": "markdown",
      "source": [
        "**Print the float value separated by line.**"
      ],
      "metadata": {
        "id": "OiPNsZ40mHzD"
      }
    },
    {
      "cell_type": "code",
      "source": [
        "A,B,C = input().split(\" \")\n",
        "A = float(A)\n",
        "B = float(B)\n",
        "C = float(C)\n",
        "print(A)\n",
        "print(B)\n",
        "print(C)"
      ],
      "metadata": {
        "colab": {
          "base_uri": "https://localhost:8080/"
        },
        "id": "oPJ3ILGWmM01",
        "outputId": "1ad207a6-2f08-4862-d5f6-d1ca02904ee1"
      },
      "execution_count": 7,
      "outputs": [
        {
          "output_type": "stream",
          "name": "stdout",
          "text": [
            "2.3 4.5 7.8\n",
            "2.3\n",
            "4.5\n",
            "7.8\n"
          ]
        }
      ]
    },
    {
      "cell_type": "markdown",
      "source": [
        "**Print the characters in a string separated by line.**"
      ],
      "metadata": {
        "id": "hcknwmMimMDL"
      }
    },
    {
      "cell_type": "code",
      "source": [
        "a=input()\n",
        "print('\\n'.join(map(str,a)))\n"
      ],
      "metadata": {
        "colab": {
          "base_uri": "https://localhost:8080/"
        },
        "id": "kzj7WfpNmX4G",
        "outputId": "f8e4a546-d9bc-467f-9d70-d1aeeee493f9"
      },
      "execution_count": 9,
      "outputs": [
        {
          "output_type": "stream",
          "name": "stdout",
          "text": [
            "guvi\n",
            "g\n",
            "u\n",
            "v\n",
            "i\n"
          ]
        }
      ]
    }
  ]
}