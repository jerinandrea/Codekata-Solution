{
  "nbformat": 4,
  "nbformat_minor": 0,
  "metadata": {
    "colab": {
      "name": "Codekata Guvi Learning Path.ipynb",
      "provenance": []
    },
    "kernelspec": {
      "name": "python3",
      "display_name": "Python 3"
    },
    "language_info": {
      "name": "python"
    }
  },
  "cells": [
    {
      "cell_type": "markdown",
      "source": [
        "Given a number N and array of N integers, print the prefix sum array for each position if it is divisible by 2 else print the element itself.\n",
        "Input Size : N <= 10000\n",
        "Sample Testcase :\n",
        "INPUT\n",
        "4\n",
        "2 4 4 4\n",
        "OUTPUT\n",
        "2 6 10 14 "
      ],
      "metadata": {
        "id": "YURZ-9hm1_9S"
      }
    },
    {
      "cell_type": "code",
      "execution_count": 1,
      "metadata": {
        "colab": {
          "base_uri": "https://localhost:8080/"
        },
        "id": "_MpRSNI113cO",
        "outputId": "e7a109e5-d998-4a31-c81f-5e4832164308"
      },
      "outputs": [
        {
          "output_type": "stream",
          "name": "stdout",
          "text": [
            "4\n",
            "2 4 4 4\n",
            "2 6 10 14\n"
          ]
        }
      ],
      "source": [
        "n=int(input())\n",
        "a=map(int,input().split()[:n])\n",
        "a=list(a)\n",
        "c=a[0]\n",
        "l=[]\n",
        "l.append(a[0])\n",
        "for i in range(1,n):\n",
        "    c=c+a[i]\n",
        "    if(c%2==0):\n",
        "        l.append(c)\n",
        "    else:\n",
        "        l.append(a[i])\n",
        "l=\" \".join(map(str,l))\n",
        "print(l)"
      ]
    },
    {
      "cell_type": "markdown",
      "source": [
        "You are provided with a string ‘s’. Your task is to reverse the string using stack Data Structure.\n",
        "\n",
        " \n",
        "\n",
        "Input Description:\n",
        "You are given a string ‘s’.\n",
        "\n",
        "Output Description:\n",
        "Print the reverse string\n",
        "\n",
        "Sample Input :\n",
        "i am jsb\n",
        "Sample Output :\n",
        "jsb am i\n"
      ],
      "metadata": {
        "id": "2cOp-a4q2AHX"
      }
    },
    {
      "cell_type": "code",
      "source": [
        "def rev_sentence(sentence): \n",
        "    words = sentence.split(' ') \n",
        "    reverse_sentence = ' '.join(reversed(words)) \n",
        "    return reverse_sentence \n",
        "  \n",
        "if __name__ == \"__main__\": \n",
        "    a = input()\n",
        "    print (rev_sentence(a))"
      ],
      "metadata": {
        "colab": {
          "base_uri": "https://localhost:8080/"
        },
        "id": "z59SzQHI2CcH",
        "outputId": "fe9b969f-3faf-4336-a023-0fdb503d31b0"
      },
      "execution_count": 2,
      "outputs": [
        {
          "output_type": "stream",
          "name": "stdout",
          "text": [
            "i am jsb\n",
            "jsb am i\n"
          ]
        }
      ]
    },
    {
      "cell_type": "markdown",
      "source": [
        "Given a roman numeral N, convert it into integer.Take L=50, C=100.If it is not a valid roman numeral print '-1'\n",
        "Input Size : N <= 100\n",
        "Sample Testcase :\n",
        "INPUT\n",
        "VI\n",
        "OUTPUT\n",
        "6\n",
        "INPUT\n",
        "Y\n",
        "OUTPUT\n",
        "-1"
      ],
      "metadata": {
        "id": "386tvYmj2Ck9"
      }
    },
    {
      "cell_type": "code",
      "source": [
        "def value(r):\n",
        "\tif (r == 'I'):\n",
        "\t\treturn 1\n",
        "\tif (r == 'V'):\n",
        "\t\treturn 5\n",
        "\tif (r == 'X'):\n",
        "\t\treturn 10\n",
        "\tif (r == 'L'):\n",
        "\t\treturn 50\n",
        "\tif (r == 'C'):\n",
        "\t\treturn 100\n",
        "\tif (r == 'D'):\n",
        "\t\treturn 500\n",
        "\tif (r == 'M'):\n",
        "\t\treturn 1000\n",
        "\treturn -1\n",
        "\n",
        "\n",
        "def romanToDecimal(str):\n",
        "\tres = 0\n",
        "\ti = 0\n",
        "\n",
        "\twhile (i < len(str)):\n",
        "\n",
        "\t\t# Getting value of symbol s[i]\n",
        "\t\ts1 = value(str[i])\n",
        "\n",
        "\t\tif (i + 1 < len(str)):\n",
        "\n",
        "\t\t\t# Getting value of symbol s[i + 1]\n",
        "\t\t\ts2 = value(str[i + 1])\n",
        "\n",
        "\t\t\t# Comparing both values\n",
        "\t\t\tif (s1 >= s2):\n",
        "\n",
        "\t\t\t\t# Value of current symbol is greater\n",
        "\t\t\t\t# or equal to the next symbol\n",
        "\t\t\t\tres = res + s1\n",
        "\t\t\t\ti = i + 1\n",
        "\t\t\telse:\n",
        "\n",
        "\t\t\t\tres = res + s2 - s1\n",
        "\t\t\t\ti = i + 2\n",
        "\t\telse:\n",
        "\t\t\tres = res + s1\n",
        "\t\t\ti = i + 1\n",
        "\n",
        "\treturn res\n",
        "\n",
        "a=input()\n",
        "print(romanToDecimal(a))\n"
      ],
      "metadata": {
        "colab": {
          "base_uri": "https://localhost:8080/"
        },
        "id": "SYs8RXbX2CuT",
        "outputId": "7fb94a95-a31a-4cf7-e934-32a6eeb371a4"
      },
      "execution_count": 3,
      "outputs": [
        {
          "output_type": "stream",
          "name": "stdout",
          "text": [
            "VI\n",
            "6\n"
          ]
        }
      ]
    },
    {
      "cell_type": "markdown",
      "source": [
        "Given a string of length N, find the longest palindromic substring.\n",
        "Input Size : 1 <= N <= 1000\n",
        "Sample Testcase :\n",
        "INPUT\n",
        "DIEHEIDI\n",
        "OUTPUT\n",
        "DIEHEID"
      ],
      "metadata": {
        "id": "0Iq-7BMC2C24"
      }
    },
    {
      "cell_type": "code",
      "source": [
        "def expand(str, low, high):\n",
        " \n",
        "    length = len(str)\n",
        "    while low >= 0 and high < length and str[low] == str[high]:\n",
        "        low = low - 1\n",
        "        high = high + 1\n",
        "    return str[low + 1:high]\n",
        "\n",
        "def findLongestPalindromicSubstring(str, length):\n",
        "    max_str = \"\"\n",
        "    max_length = 0\n",
        "\n",
        "    for i in range(length):\n",
        "        curr_str = expand(str, i, i)\n",
        "        curr_length = len(curr_str)\n",
        "\n",
        "        if curr_length > max_length:\n",
        "            max_length = curr_length\n",
        "            max_str = curr_str\n",
        " \n",
        "        curr_str = expand(str, i, i + 1)\n",
        "        curr_length = len(curr_str)\n",
        "\n",
        "        if curr_length > max_length:\n",
        "            max_length = curr_length\n",
        "            max_str = curr_str\n",
        " \n",
        "    return max_str\n",
        " \n",
        "if __name__ == '__main__':\n",
        " \n",
        "    str = input()\n",
        " \n",
        "    print(findLongestPalindromicSubstring(str, len(str) - 1))\n",
        " "
      ],
      "metadata": {
        "colab": {
          "base_uri": "https://localhost:8080/"
        },
        "id": "gwWxOLbr2DBU",
        "outputId": "69bb16ac-e3c1-41b3-aaf1-86dd89dc9174"
      },
      "execution_count": 4,
      "outputs": [
        {
          "output_type": "stream",
          "name": "stdout",
          "text": [
            "DIEHEIDI\n",
            "DIEHEID\n"
          ]
        }
      ]
    },
    {
      "cell_type": "markdown",
      "source": [
        "Given a string S of length N, print all permutations of the string in a separate line.\n",
        "Input Size : 1 <= N <= 100000\n",
        "Sample Testcases :\n",
        "INPUT\n",
        "123\n",
        "OUTPUT\n",
        "123\n",
        "231\n",
        "321\n",
        "213\n",
        "312\n",
        "132"
      ],
      "metadata": {
        "id": "4TEnHtL02DJ7"
      }
    },
    {
      "cell_type": "code",
      "source": [
        "from itertools import permutations\n",
        "  \n",
        "def allPermutations(str):    \n",
        "     permList = permutations(str)\n",
        "     for perm in list(permList):\n",
        "         print (''.join(perm))\n",
        "\n",
        "if __name__ == \"__main__\":\n",
        "    str = input()\n",
        "    allPermutations(str)\n"
      ],
      "metadata": {
        "colab": {
          "base_uri": "https://localhost:8080/"
        },
        "id": "ch8sUBUU2DTQ",
        "outputId": "5da91c97-d1f4-42ac-b58f-9dd7d5578741"
      },
      "execution_count": 5,
      "outputs": [
        {
          "output_type": "stream",
          "name": "stdout",
          "text": [
            "123\n",
            "123\n",
            "132\n",
            "213\n",
            "231\n",
            "312\n",
            "321\n"
          ]
        }
      ]
    },
    {
      "cell_type": "markdown",
      "source": [
        "You are given a string of different type of brackets. Your task is to check whether the given string is balanced or not balanced.\n",
        "A string is said to be balanced if the number of opening brackets are equal to the number of closing brackets where the brackets should be of same kind.\n",
        "\n",
        "Input Description:\n",
        "You are given a string ‘s’.\n",
        "\n",
        "Output Description:\n",
        "Print 'yes' if the given string is balanced and no if it is not\n",
        "\n",
        "Sample Input :\n",
        "{}(())[][][{}]\n",
        "Sample Output :\n",
        "yes"
      ],
      "metadata": {
        "id": "L1kDKkNV3soe"
      }
    },
    {
      "cell_type": "code",
      "source": [
        "def areBracketsBalanced(expr):\n",
        "\tstack = []\n",
        "\tfor char in expr:\n",
        "\t\tif char in [\"(\", \"{\", \"[\"]:\n",
        "\t\t\tstack.append(char)\n",
        "\t\telse:\n",
        "\t\t\tif not stack:\n",
        "\t\t\t\treturn False\n",
        "\t\t\tcurrent_char = stack.pop()\n",
        "\t\t\tif current_char == '(':\n",
        "\t\t\t\tif char != \")\":\n",
        "\t\t\t\t\treturn False\n",
        "\t\t\tif current_char == '{':\n",
        "\t\t\t\tif char != \"}\":\n",
        "\t\t\t\t\treturn False\n",
        "\t\t\tif current_char == '[':\n",
        "\t\t\t\tif char != \"]\":\n",
        "\t\t\t\t\treturn False\n",
        "\tif stack:\n",
        "\t\treturn False\n",
        "\treturn True\n",
        "if __name__ == \"__main__\":\n",
        "\texpr = input()\n",
        "\tif areBracketsBalanced(expr):\n",
        "\t\tprint(\"yes\")\n",
        "\telse:\n",
        "\t\tprint(\"no\")\n"
      ],
      "metadata": {
        "colab": {
          "base_uri": "https://localhost:8080/"
        },
        "id": "PjGASnO43s_3",
        "outputId": "3c277339-8f05-4a09-f873-604955c3bf21"
      },
      "execution_count": 6,
      "outputs": [
        {
          "output_type": "stream",
          "name": "stdout",
          "text": [
            "{}(())[][][{}]\n",
            "yes\n"
          ]
        }
      ]
    }
  ]
}