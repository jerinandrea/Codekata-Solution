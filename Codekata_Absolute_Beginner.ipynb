{
  "nbformat": 4,
  "nbformat_minor": 0,
  "metadata": {
    "colab": {
      "name": "Codekata Absolute Beginner.ipynb",
      "provenance": [],
      "collapsed_sections": []
    },
    "kernelspec": {
      "name": "python3",
      "display_name": "Python 3"
    },
    "language_info": {
      "name": "python"
    }
  },
  "cells": [
    {
      "cell_type": "markdown",
      "source": [
        "**Convert and print this value in meters and centimeters.**"
      ],
      "metadata": {
        "id": "oc9PNLDYtzfm"
      }
    },
    {
      "cell_type": "code",
      "execution_count": 1,
      "metadata": {
        "colab": {
          "base_uri": "https://localhost:8080/"
        },
        "id": "uz8oDE-eseMe",
        "outputId": "7d149182-7373-4fd0-ecfa-e27afb97c8eb"
      },
      "outputs": [
        {
          "output_type": "stream",
          "name": "stdout",
          "text": [
            "2\n",
            "2000\n",
            "200000\n"
          ]
        }
      ],
      "source": [
        "m=int(input())   \n",
        "cm  = 1000* m;\n",
        "cm1  = 100000* m; \n",
        "print(cm)\n",
        "print(cm1)"
      ]
    },
    {
      "cell_type": "markdown",
      "source": [
        "**Find the area of the equilateral triangle and print the answer up to 2 decimal places after rounding off.**"
      ],
      "metadata": {
        "id": "uhM15m9Wt0xa"
      }
    },
    {
      "cell_type": "code",
      "source": [
        "import math\n",
        "a=int(input())\n",
        "area=(math.sqrt(3)* a * a)/4\n",
        "print(round(area,2))"
      ],
      "metadata": {
        "colab": {
          "base_uri": "https://localhost:8080/"
        },
        "id": "40nxG99Bt07-",
        "outputId": "fc244f74-52c9-4619-bc9e-78821de51d37"
      },
      "execution_count": 2,
      "outputs": [
        {
          "output_type": "stream",
          "name": "stdout",
          "text": [
            "20\n",
            "173.21\n"
          ]
        }
      ]
    },
    {
      "cell_type": "markdown",
      "source": [
        "**Find out whether the number is odd or even. Print \"Odd\" or \"Even\" for the corresponding cases. Note: In case of a decimal, Round off to nearest integer and then find the output. In case the input is zero, print \"Zero\".**"
      ],
      "metadata": {
        "id": "DWnP7x5vt1LY"
      }
    },
    {
      "cell_type": "code",
      "source": [
        "num = int(input())\n",
        "mod = num % 2\n",
        "if mod > 0:\n",
        "    print(\"Odd\")\n",
        "else:\n",
        "    print(\"Even\")"
      ],
      "metadata": {
        "colab": {
          "base_uri": "https://localhost:8080/"
        },
        "id": "apjlG7zRt1XJ",
        "outputId": "e3438aba-fe96-44e5-a5ed-f7c3f9ddf010"
      },
      "execution_count": 3,
      "outputs": [
        {
          "output_type": "stream",
          "name": "stdout",
          "text": [
            "2\n",
            "Even\n"
          ]
        }
      ]
    },
    {
      "cell_type": "markdown",
      "source": [
        "**Print the First 3 multiples of the number with single spaces between them as an output.**"
      ],
      "metadata": {
        "id": "EI6u-iIXt1iz"
      }
    },
    {
      "cell_type": "code",
      "source": [
        "n = int(input())\n",
        "print(n, n * 2, n * 3)\n"
      ],
      "metadata": {
        "colab": {
          "base_uri": "https://localhost:8080/"
        },
        "id": "EL0DpBO3t1sq",
        "outputId": "d3e67571-1533-4c4e-88e4-7d8cce985d90"
      },
      "execution_count": 4,
      "outputs": [
        {
          "output_type": "stream",
          "name": "stdout",
          "text": [
            "2\n",
            "2 4 6\n"
          ]
        }
      ]
    },
    {
      "cell_type": "markdown",
      "source": [
        "**Calculate and print the Circumference of the circle corresponding to the input radius up to two decimal places.**"
      ],
      "metadata": {
        "id": "bxem2ARft11Q"
      }
    },
    {
      "cell_type": "code",
      "source": [
        "import math\n",
        "radius=float(input())\n",
        "circumference= 2 * math.pi * radius\n",
        "print(round(circumference,2))\n",
        " "
      ],
      "metadata": {
        "colab": {
          "base_uri": "https://localhost:8080/"
        },
        "id": "OvzBpXU9t1-f",
        "outputId": "329d0cdd-35ec-4eeb-c0a6-aeac7413bc44"
      },
      "execution_count": 5,
      "outputs": [
        {
          "output_type": "stream",
          "name": "stdout",
          "text": [
            "2\n",
            "12.57\n"
          ]
        }
      ]
    },
    {
      "cell_type": "markdown",
      "source": [
        "**Find the Simple interest and print it up to two decimal places. Round off if required.**"
      ],
      "metadata": {
        "id": "u7GuzBwpt2HV"
      }
    },
    {
      "cell_type": "code",
      "source": [
        "P, R, T = map(int, input().split())\n",
        "SI= (P * R * T)/1000\n",
        "print(round(SI))"
      ],
      "metadata": {
        "colab": {
          "base_uri": "https://localhost:8080/"
        },
        "id": "BGtIAR3_u_R9",
        "outputId": "81ba4cd0-43b3-4f53-dba6-cae2f244b31c"
      },
      "execution_count": 6,
      "outputs": [
        {
          "output_type": "stream",
          "name": "stdout",
          "text": [
            "1000 2 5\n",
            "10\n"
          ]
        }
      ]
    },
    {
      "cell_type": "markdown",
      "source": [
        "**A number is provided in Celcius as the input of the program. The output shall be the temperature converted into Fahrenheit corresponding to the input value print up to two decimal places and round off if required.**"
      ],
      "metadata": {
        "id": "7DFZ8pTuu_xC"
      }
    },
    {
      "cell_type": "code",
      "source": [
        "celsius = float(input())\n",
        "fahrenheit = (celsius * 9/5) + 32\n",
        "print(fahrenheit)"
      ],
      "metadata": {
        "colab": {
          "base_uri": "https://localhost:8080/"
        },
        "id": "q6TVq1WYvAAi",
        "outputId": "5c889aff-5219-4c0f-d3ab-632122a30bea"
      },
      "execution_count": 7,
      "outputs": [
        {
          "output_type": "stream",
          "name": "stdout",
          "text": [
            "12\n",
            "53.6\n"
          ]
        }
      ]
    },
    {
      "cell_type": "markdown",
      "source": [
        "**Find the days in the month corresponding to the input number. Print Error if the input is not in a valid range.**"
      ],
      "metadata": {
        "id": "JAM-xovkvALN"
      }
    },
    {
      "cell_type": "code",
      "source": [
        "month = int(input())\n",
        "\n",
        "if(month == 1 or month == 3 or month == 5 or month == 7 or month == 8 or month == 10 or month == 12):\n",
        "\tprint(\"31\")\n",
        "elif(month == 2):\n",
        "\tprint(\"28\")\n",
        "elif(month == 4 or month == 6 or month == 9 or month == 11):\n",
        "    print(\"30\")\n",
        "else:\n",
        "\tprint(\"Error\")"
      ],
      "metadata": {
        "colab": {
          "base_uri": "https://localhost:8080/"
        },
        "id": "6z2bN4hHvAV_",
        "outputId": "12d93ff2-dc8e-49f9-a40e-c418e27eb559"
      },
      "execution_count": 8,
      "outputs": [
        {
          "output_type": "stream",
          "name": "stdout",
          "text": [
            "8\n",
            "31\n"
          ]
        }
      ]
    },
    {
      "cell_type": "markdown",
      "source": [
        "**Find the area of the rectangle formed by the provided input. Round off the answer to the first decimal place if required.**"
      ],
      "metadata": {
        "id": "YBToqaPtvAuY"
      }
    },
    {
      "cell_type": "code",
      "source": [
        "l=int(input())\n",
        "b=int(input())   \n",
        "area=l*b\n",
        "print(area)\n"
      ],
      "metadata": {
        "colab": {
          "base_uri": "https://localhost:8080/"
        },
        "id": "YoHxGaYzvynD",
        "outputId": "157f55f4-68a6-4dae-c707-a9fbff5dfa77"
      },
      "execution_count": 9,
      "outputs": [
        {
          "output_type": "stream",
          "name": "stdout",
          "text": [
            "2\n",
            "3\n",
            "6\n"
          ]
        }
      ]
    },
    {
      "cell_type": "markdown",
      "source": [
        "**Find and print the largest among the three**"
      ],
      "metadata": {
        "id": "7L4iwrNivyxl"
      }
    },
    {
      "cell_type": "code",
      "source": [
        "a = int(input())\n",
        "b = int(input())\n",
        "c = int(input())\n",
        "if(a>b and a>c):\n",
        "\tprint(a)\n",
        "elif(b>a and b>c):\n",
        "\tprint(b)\n",
        "else:\n",
        "\tprint(c)"
      ],
      "metadata": {
        "colab": {
          "base_uri": "https://localhost:8080/"
        },
        "id": "UHlVoMMqvy8g",
        "outputId": "cb82107f-7f85-4bfa-9bfb-d8d788a79efe"
      },
      "execution_count": 10,
      "outputs": [
        {
          "output_type": "stream",
          "name": "stdout",
          "text": [
            "1\n",
            "2\n",
            "3\n",
            "3\n"
          ]
        }
      ]
    },
    {
      "cell_type": "markdown",
      "source": [
        "**Print \"Y\" if its a leap year and \"N\" if its a common year.**"
      ],
      "metadata": {
        "id": "4xsQpoBUvzFm"
      }
    },
    {
      "cell_type": "code",
      "source": [
        "year = int(input())\n",
        "\n",
        "if (year % 4) == 0: \n",
        "\tprint(\"Y\")\n",
        "else:\n",
        "\tprint(\"N\")"
      ],
      "metadata": {
        "colab": {
          "base_uri": "https://localhost:8080/"
        },
        "id": "87DfbObLwMO5",
        "outputId": "098c0dd1-f568-48fd-9138-392d7271c865"
      },
      "execution_count": 11,
      "outputs": [
        {
          "output_type": "stream",
          "name": "stdout",
          "text": [
            "2020\n",
            "Y\n"
          ]
        }
      ]
    },
    {
      "cell_type": "markdown",
      "source": [
        "**Print the two values of X after rounding off to 2 decimal places if required.**"
      ],
      "metadata": {
        "id": "p1AxWLf9wMcl"
      }
    },
    {
      "cell_type": "code",
      "source": [
        "from math import sqrt\n",
        "\n",
        "a, b, c = map(int, input().split())\n",
        "r = b**2 - 4*a*c\n",
        "x1 = (((-b) + sqrt(r))/(2*a))     \n",
        "x2 = (((-b) - sqrt(r))/(2*a))\n",
        "print(\"{:.2f}\".format(float(x1)))\n",
        "print(\"{:.2f}\".format(float(x2)))"
      ],
      "metadata": {
        "colab": {
          "base_uri": "https://localhost:8080/"
        },
        "id": "xYC3vrd8wMpK",
        "outputId": "171d8da7-4327-480e-98d6-d8a9220f349f"
      },
      "execution_count": 12,
      "outputs": [
        {
          "output_type": "stream",
          "name": "stdout",
          "text": [
            "1 5 6\n",
            "-2.00\n",
            "-3.00\n"
          ]
        }
      ]
    },
    {
      "cell_type": "markdown",
      "source": [
        "**Print the table of nine with single space between the elements till the number that is input.**"
      ],
      "metadata": {
        "id": "bcAjp2xZwMzW"
      }
    },
    {
      "cell_type": "code",
      "source": [
        "N = int(input())\n",
        "if(N>0):\n",
        "    for i in range(1,N+1):\n",
        "        print((9*i),end=\" \")\n",
        "else:\n",
        "    print(\"NULL\")\n",
        "    \n"
      ],
      "metadata": {
        "colab": {
          "base_uri": "https://localhost:8080/"
        },
        "id": "ZP7JLo6AwM-p",
        "outputId": "45b79a98-f772-4246-e57c-7a0a0ffc4323"
      },
      "execution_count": 13,
      "outputs": [
        {
          "output_type": "stream",
          "name": "stdout",
          "text": [
            "9\n",
            "9 18 27 36 45 54 63 72 81 "
          ]
        }
      ]
    },
    {
      "cell_type": "markdown",
      "source": [
        "**Print the values from 1 to N in a separate line.**"
      ],
      "metadata": {
        "id": "yJnz2D-7wNT3"
      }
    },
    {
      "cell_type": "code",
      "source": [
        "n = int(input())\n",
        " \n",
        "for i in range(1, n + 1):\n",
        "    print (i)"
      ],
      "metadata": {
        "colab": {
          "base_uri": "https://localhost:8080/"
        },
        "id": "SwZqPPp1wNe6",
        "outputId": "0e599cdd-7ec1-4774-a16a-d7971a30f249"
      },
      "execution_count": 14,
      "outputs": [
        {
          "output_type": "stream",
          "name": "stdout",
          "text": [
            "5\n",
            "1\n",
            "2\n",
            "3\n",
            "4\n",
            "5\n"
          ]
        }
      ]
    },
    {
      "cell_type": "markdown",
      "source": [
        "**You are provided with a number \"N\", Find the Nth term of the series: 1, 4, 9, 16, 25, 36, 49, 64, 81, .......**"
      ],
      "metadata": {
        "id": "3cJKWYAHwNpb"
      }
    },
    {
      "cell_type": "code",
      "source": [
        "a = int(input())\n",
        "\n",
        "print( a*a )"
      ],
      "metadata": {
        "colab": {
          "base_uri": "https://localhost:8080/"
        },
        "id": "WBzdNN47xY06",
        "outputId": "dbf4c0d3-6dd5-4cbe-b248-c7580e6e810f"
      },
      "execution_count": 15,
      "outputs": [
        {
          "output_type": "stream",
          "name": "stdout",
          "text": [
            "18\n",
            "324\n"
          ]
        }
      ]
    },
    {
      "cell_type": "markdown",
      "source": [
        "**Print the even values from 1 to N in a separate line.**"
      ],
      "metadata": {
        "id": "5GyIE9AixZHz"
      }
    },
    {
      "cell_type": "code",
      "source": [
        "num = int(input())\n",
        " \n",
        "for number in range(1, num + 1):\n",
        "    if(number % 2 == 0):\n",
        "        print(format(number))\n"
      ],
      "metadata": {
        "colab": {
          "base_uri": "https://localhost:8080/"
        },
        "id": "gxe5CmL6xZR0",
        "outputId": "9f5dd3a1-5814-4d06-c5de-c748f7e0224d"
      },
      "execution_count": 16,
      "outputs": [
        {
          "output_type": "stream",
          "name": "stdout",
          "text": [
            "6\n",
            "2\n",
            "4\n",
            "6\n"
          ]
        }
      ]
    },
    {
      "cell_type": "markdown",
      "source": [
        "**Print the values from N to 1 in a separate line.**"
      ],
      "metadata": {
        "id": "sRQTnysbxZau"
      }
    },
    {
      "cell_type": "code",
      "source": [
        "a=int(input())\n",
        "for i in range(a, 0, -1):\n",
        "        print(i);"
      ],
      "metadata": {
        "colab": {
          "base_uri": "https://localhost:8080/"
        },
        "id": "z10VbH-8xZlK",
        "outputId": "bf76e8e3-04ca-4045-c220-36e718173eee"
      },
      "execution_count": 17,
      "outputs": [
        {
          "output_type": "stream",
          "name": "stdout",
          "text": [
            "10\n",
            "10\n",
            "9\n",
            "8\n",
            "7\n",
            "6\n",
            "5\n",
            "4\n",
            "3\n",
            "2\n",
            "1\n"
          ]
        }
      ]
    },
    {
      "cell_type": "markdown",
      "source": [
        "**Print the sum of the digits of the integer.**"
      ],
      "metadata": {
        "id": "YnuRDUQoxZua"
      }
    },
    {
      "cell_type": "code",
      "source": [
        "def getSum(n): \n",
        "      \n",
        "    strr = str(n)\n",
        "    list_of_number = list(map(int, strr.strip()))\n",
        "    return sum(list_of_number)\n",
        "    \n",
        "n = int(input())\n",
        "print(getSum(n))"
      ],
      "metadata": {
        "colab": {
          "base_uri": "https://localhost:8080/"
        },
        "id": "i7g0_CEXxZ4H",
        "outputId": "e72c6f01-c0bf-4016-e7bb-07b46442d8ed"
      },
      "execution_count": 18,
      "outputs": [
        {
          "output_type": "stream",
          "name": "stdout",
          "text": [
            "124\n",
            "7\n"
          ]
        }
      ]
    },
    {
      "cell_type": "markdown",
      "source": [
        "**Find the sum of the two numbers (A + B)**"
      ],
      "metadata": {
        "id": "fZMLXEfzx-80"
      }
    },
    {
      "cell_type": "code",
      "source": [
        "A=int(input())\n",
        "B=int(input())\n",
        "C=A+B\n",
        "print(C)"
      ],
      "metadata": {
        "colab": {
          "base_uri": "https://localhost:8080/"
        },
        "id": "zfpz9vEux_To",
        "outputId": "a1bb7414-64cf-4952-df91-bdcb4ba69f97"
      },
      "execution_count": 19,
      "outputs": [
        {
          "output_type": "stream",
          "name": "stdout",
          "text": [
            "1\n",
            "1\n",
            "2\n"
          ]
        }
      ]
    },
    {
      "cell_type": "markdown",
      "source": [
        "**Print the integer A, N times in a separate line.**"
      ],
      "metadata": {
        "id": "lBCu9uBgx_dk"
      }
    },
    {
      "cell_type": "code",
      "source": [
        "a,n = map(int, input().split())\n",
        "\n",
        "for _ in range(n):\n",
        "    print(a)"
      ],
      "metadata": {
        "colab": {
          "base_uri": "https://localhost:8080/"
        },
        "id": "2KGEkknGx_oC",
        "outputId": "f4634207-755c-4b0d-b134-21d4d2132c3b"
      },
      "execution_count": 20,
      "outputs": [
        {
          "output_type": "stream",
          "name": "stdout",
          "text": [
            "2 3\n",
            "2\n",
            "2\n",
            "2\n"
          ]
        }
      ]
    },
    {
      "cell_type": "markdown",
      "source": [
        "**Print the reversed string.**"
      ],
      "metadata": {
        "id": "2Fz6_I3Zx_xk"
      }
    },
    {
      "cell_type": "code",
      "source": [
        "a=input()\n",
        "leng=len(a) \n",
        "op=a[leng::-1]\n",
        "print (op) \n"
      ],
      "metadata": {
        "colab": {
          "base_uri": "https://localhost:8080/"
        },
        "id": "aHp_Np9Dx_73",
        "outputId": "7066d60c-7cda-4afe-9969-4aa95851c5e5"
      },
      "execution_count": 21,
      "outputs": [
        {
          "output_type": "stream",
          "name": "stdout",
          "text": [
            "GUVI\n",
            "IVUG\n"
          ]
        }
      ]
    },
    {
      "cell_type": "markdown",
      "source": [
        "**Print the digits of the integer in a single line separated by space,**"
      ],
      "metadata": {
        "id": "DNAZsskCyAGb"
      }
    },
    {
      "cell_type": "code",
      "source": [
        "a=input()\n",
        "\n",
        "print(' '.join(map(str,a)))\n",
        "\n"
      ],
      "metadata": {
        "colab": {
          "base_uri": "https://localhost:8080/"
        },
        "id": "eUcpREeJyARO",
        "outputId": "636d482d-27e1-4f5e-db5e-3644760c308b"
      },
      "execution_count": 22,
      "outputs": [
        {
          "output_type": "stream",
          "name": "stdout",
          "text": [
            "348\n",
            "3 4 8\n"
          ]
        }
      ]
    },
    {
      "cell_type": "markdown",
      "source": [
        "**Print the even and odd integers of the integer in a separate line.**"
      ],
      "metadata": {
        "id": "bmWYfLWlyplp"
      }
    },
    {
      "cell_type": "code",
      "source": [
        "def evenOdd(numbers):\n",
        "    even = []\n",
        "    odd = []\n",
        "    for number in numbers:\n",
        "        if int(number) % 2 == 0:\n",
        "            even.append(number)\n",
        "        else:\n",
        "            odd.append(number)\n",
        "    return even, odd\n",
        "if __name__ == '__main__':\n",
        "    userInput = input()\n",
        "    even, odd = evenOdd(userInput)\n",
        "    print(' '.join(sorted(even)))\n",
        "    print(' '.join(sorted(odd)))"
      ],
      "metadata": {
        "colab": {
          "base_uri": "https://localhost:8080/"
        },
        "id": "iSGNlzNCyrgW",
        "outputId": "aa63529a-cd5f-4b04-dfe1-00495fff9874"
      },
      "execution_count": 23,
      "outputs": [
        {
          "output_type": "stream",
          "name": "stdout",
          "text": [
            "1234\n",
            "2 4\n",
            "1 3\n"
          ]
        }
      ]
    },
    {
      "cell_type": "markdown",
      "source": [
        "**Remove all the whitespaces and then print the length of the remaining string.**"
      ],
      "metadata": {
        "id": "gTc98ffhypwA"
      }
    },
    {
      "cell_type": "code",
      "source": [
        "a = input()\n",
        "a = a.replace(\" \",\"\") \n",
        "print(len(a))"
      ],
      "metadata": {
        "colab": {
          "base_uri": "https://localhost:8080/"
        },
        "id": "GlPHuBp8ysEn",
        "outputId": "4b9cff7e-d7b2-4d22-8a21-ee5be594897d"
      },
      "execution_count": 24,
      "outputs": [
        {
          "output_type": "stream",
          "name": "stdout",
          "text": [
            "Loren Ipsum\n",
            "10\n"
          ]
        }
      ]
    },
    {
      "cell_type": "markdown",
      "source": [
        "**Print the HCF of the integers**"
      ],
      "metadata": {
        "id": "zixZaqIBysYA"
      }
    },
    {
      "cell_type": "code",
      "source": [
        "def hcfnaive(a,b):\n",
        "    if(b==0):\n",
        "        return a\n",
        "    else:\n",
        "        return hcfnaive(b,a%b)\n",
        "num1,num2 = map(int, input().split())\n",
        "print(hcfnaive(num1, num2))  "
      ],
      "metadata": {
        "colab": {
          "base_uri": "https://localhost:8080/"
        },
        "id": "bg4R_w7tysjp",
        "outputId": "962e3e6a-ae99-4df1-e61a-1f58f81236c3"
      },
      "execution_count": 25,
      "outputs": [
        {
          "output_type": "stream",
          "name": "stdout",
          "text": [
            "2 3\n",
            "1\n"
          ]
        }
      ]
    },
    {
      "cell_type": "markdown",
      "source": [
        "**Find the cube of the number.**"
      ],
      "metadata": {
        "id": "YXu1HfJW0dCZ"
      }
    },
    {
      "cell_type": "code",
      "source": [
        "a=int(input())\n",
        "print(a*a*a)"
      ],
      "metadata": {
        "colab": {
          "base_uri": "https://localhost:8080/"
        },
        "id": "6Y_ndCxX0dLm",
        "outputId": "da7c3bab-9c42-4531-f7e0-4c82b01717b2"
      },
      "execution_count": 28,
      "outputs": [
        {
          "output_type": "stream",
          "name": "stdout",
          "text": [
            "2\n",
            "8\n"
          ]
        }
      ]
    },
    {
      "cell_type": "markdown",
      "source": [
        "**Print the factorial of the integer.**"
      ],
      "metadata": {
        "id": "TbE5N1gf0lex"
      }
    },
    {
      "cell_type": "code",
      "source": [
        "num = int(input())    \n",
        "factorial = 1    \n",
        "for i in range(1,num + 1):    \n",
        "    factorial = factorial*i    \n",
        "print(factorial)   "
      ],
      "metadata": {
        "colab": {
          "base_uri": "https://localhost:8080/"
        },
        "id": "QynVy7iJ0loO",
        "outputId": "bccac623-b337-4b42-d698-a7d7cda86413"
      },
      "execution_count": 29,
      "outputs": [
        {
          "output_type": "stream",
          "name": "stdout",
          "text": [
            "2\n",
            "2\n"
          ]
        }
      ]
    },
    {
      "cell_type": "markdown",
      "source": [
        "**Print the small number out of the two numbers.**"
      ],
      "metadata": {
        "id": "ToQk2v_W0zJK"
      }
    },
    {
      "cell_type": "code",
      "source": [
        "def minimum(a, b):\n",
        "      \n",
        "    if a <= b:\n",
        "        return a\n",
        "    else:\n",
        "        return b\n",
        "      \n",
        "# Driver code\n",
        "a,b = input().split()\n",
        "print(minimum(a, b))\n"
      ],
      "metadata": {
        "colab": {
          "base_uri": "https://localhost:8080/"
        },
        "id": "dFEsm-OY0zUU",
        "outputId": "49577b56-6c48-47e4-c2ea-a01e3918527d"
      },
      "execution_count": 30,
      "outputs": [
        {
          "output_type": "stream",
          "name": "stdout",
          "text": [
            "23 1\n",
            "1\n"
          ]
        }
      ]
    },
    {
      "cell_type": "markdown",
      "source": [
        "**Print the sum of values from 1 to N.**"
      ],
      "metadata": {
        "id": "lxaxyev5ysvC"
      }
    },
    {
      "cell_type": "code",
      "source": [
        "while True:\n",
        "  output = \"\"\n",
        "  num = int(input())\n",
        "\n",
        "  if num == 0:\n",
        "    exit()\n",
        "\n",
        "  for i in range(1, num+1):\n",
        "   \n",
        "    output=format(sum(range(num+1)))\n",
        "  print (output)"
      ],
      "metadata": {
        "colab": {
          "base_uri": "https://localhost:8080/"
        },
        "id": "mAi4XzvGys7S",
        "outputId": "340ae0f5-4a83-402b-9d2d-218edaad18d8"
      },
      "execution_count": null,
      "outputs": [
        {
          "output_type": "stream",
          "name": "stdout",
          "text": [
            "10\n",
            "55\n"
          ]
        }
      ]
    }
  ]
}